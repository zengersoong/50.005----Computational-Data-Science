{
 "cells": [
  {
   "cell_type": "code",
   "execution_count": 6,
   "metadata": {},
   "outputs": [],
   "source": [
    "from sklearn.feature_extraction.text import CountVectorizer\n",
    "from sklearn.naive_bayes import MultinomialNB\n",
    "from sklearn.pipeline import Pipeline\n",
    "from sklearn.model_selection import train_test_split\n",
    "from sklearn.preprocessing import FunctionTransformer\n",
    "from sklearn import metrics\n",
    "from sklearn.metrics import accuracy_score\n",
    "from sklearn.feature_selection import SelectKBest, SelectPercentile\n",
    "from sklearn.feature_selection import chi2,f_classif, mutual_info_classif\n",
    "import pandas as pd\n",
    "import numpy as np"
   ]
  },
  {
   "cell_type": "code",
   "execution_count": 8,
   "metadata": {},
   "outputs": [
    {
     "data": {
      "text/html": [
       "<div>\n",
       "<style scoped>\n",
       "    .dataframe tbody tr th:only-of-type {\n",
       "        vertical-align: middle;\n",
       "    }\n",
       "\n",
       "    .dataframe tbody tr th {\n",
       "        vertical-align: top;\n",
       "    }\n",
       "\n",
       "    .dataframe thead th {\n",
       "        text-align: right;\n",
       "    }\n",
       "</style>\n",
       "<table border=\"1\" class=\"dataframe\">\n",
       "  <thead>\n",
       "    <tr style=\"text-align: right;\">\n",
       "      <th></th>\n",
       "      <th>label</th>\n",
       "      <th>id</th>\n",
       "      <th>date</th>\n",
       "      <th>query</th>\n",
       "      <th>user</th>\n",
       "      <th>text</th>\n",
       "    </tr>\n",
       "  </thead>\n",
       "  <tbody>\n",
       "    <tr>\n",
       "      <th>0</th>\n",
       "      <td>4</td>\n",
       "      <td>1985770747</td>\n",
       "      <td>Sun May 31 17:44:25 PDT 2009</td>\n",
       "      <td>NO_QUERY</td>\n",
       "      <td>vozabala</td>\n",
       "      <td>Getting ready for another week of fun and game...</td>\n",
       "    </tr>\n",
       "    <tr>\n",
       "      <th>1</th>\n",
       "      <td>0</td>\n",
       "      <td>2322735567</td>\n",
       "      <td>Wed Jun 24 23:10:08 PDT 2009</td>\n",
       "      <td>NO_QUERY</td>\n",
       "      <td>liannecab</td>\n",
       "      <td>http://twitpic.com/8cp6u - I want it, sooo bad</td>\n",
       "    </tr>\n",
       "    <tr>\n",
       "      <th>2</th>\n",
       "      <td>0</td>\n",
       "      <td>1972997427</td>\n",
       "      <td>Sat May 30 10:16:49 PDT 2009</td>\n",
       "      <td>NO_QUERY</td>\n",
       "      <td>nadhirarchangel</td>\n",
       "      <td>iloveyousincethe1stgradeitsthefirsttimewemet  ...</td>\n",
       "    </tr>\n",
       "    <tr>\n",
       "      <th>3</th>\n",
       "      <td>0</td>\n",
       "      <td>2230992481</td>\n",
       "      <td>Thu Jun 18 17:53:46 PDT 2009</td>\n",
       "      <td>NO_QUERY</td>\n",
       "      <td>doughamlin</td>\n",
       "      <td>@extendr I can add :skype links but :aim links...</td>\n",
       "    </tr>\n",
       "    <tr>\n",
       "      <th>4</th>\n",
       "      <td>4</td>\n",
       "      <td>2053227537</td>\n",
       "      <td>Sat Jun 06 03:46:32 PDT 2009</td>\n",
       "      <td>NO_QUERY</td>\n",
       "      <td>Mariallama</td>\n",
       "      <td>just woke up at to rain. . . on the plus side ...</td>\n",
       "    </tr>\n",
       "  </tbody>\n",
       "</table>\n",
       "</div>"
      ],
      "text/plain": [
       "   label          id                          date     query             user  \\\n",
       "0      4  1985770747  Sun May 31 17:44:25 PDT 2009  NO_QUERY         vozabala   \n",
       "1      0  2322735567  Wed Jun 24 23:10:08 PDT 2009  NO_QUERY        liannecab   \n",
       "2      0  1972997427  Sat May 30 10:16:49 PDT 2009  NO_QUERY  nadhirarchangel   \n",
       "3      0  2230992481  Thu Jun 18 17:53:46 PDT 2009  NO_QUERY       doughamlin   \n",
       "4      4  2053227537  Sat Jun 06 03:46:32 PDT 2009  NO_QUERY       Mariallama   \n",
       "\n",
       "                                                text  \n",
       "0  Getting ready for another week of fun and game...  \n",
       "1    http://twitpic.com/8cp6u - I want it, sooo bad   \n",
       "2  iloveyousincethe1stgradeitsthefirsttimewemet  ...  \n",
       "3  @extendr I can add :skype links but :aim links...  \n",
       "4  just woke up at to rain. . . on the plus side ...  "
      ]
     },
     "execution_count": 8,
     "metadata": {},
     "output_type": "execute_result"
    }
   ],
   "source": [
    "data = pd.read_csv('tweets.160k.random.csv', encoding = 'utf-8')\n",
    "data.head()"
   ]
  },
  {
   "cell_type": "code",
   "execution_count": 16,
   "metadata": {},
   "outputs": [],
   "source": [
    "labels = data['label']\n",
    "x_train, x_test , y_train, y_test = train_test_split(data,labels,test_size = 0.2)\n",
    "getTweetCol = FunctionTransformer(lambda x: x['text'],validate = False)#EXTACRT TWEETS\n",
    "tfVect = CountVectorizer(stop_words='english', lowercase=True,ngram_range=(1,2))\n",
    "mnbClf = MultinomialNB()"
   ]
  },
  {
   "cell_type": "code",
   "execution_count": 18,
   "metadata": {},
   "outputs": [
    {
     "name": "stdout",
     "output_type": "stream",
     "text": [
      "0.75115625\n"
     ]
    }
   ],
   "source": [
    "clf_tf = Pipeline([('getTweets',getTweetCol),('vect',tfVect),('clf',mnbClf)])\n",
    "clf_tf.fit(x_train,y_train)\n",
    "predicted = clf_tf.predict(x_test)\n",
    "print(accuracy_score(y_test,predicted))"
   ]
  },
  {
   "cell_type": "code",
   "execution_count": 25,
   "metadata": {},
   "outputs": [
    {
     "name": "stdout",
     "output_type": "stream",
     "text": [
      "0.75153125\n"
     ]
    }
   ],
   "source": [
    "feaSelect = SelectPercentile(chi2, percentile = 5)\n",
    "clf_tf = Pipeline([('getTweets',getTweetCol),('vect',tfVect),('feaSelect',feaSelect),('clf',mnbClf)])\n",
    "clf_tf.fit(x_train,y_train)\n",
    "predicted = clf_tf.predict(x_test)\n",
    "print(accuracy_score(y_test,predicted))"
   ]
  },
  {
   "cell_type": "code",
   "execution_count": 32,
   "metadata": {},
   "outputs": [
    {
     "name": "stdout",
     "output_type": "stream",
     "text": [
      "0.58384375\n"
     ]
    }
   ],
   "source": [
    "feaSelect = SelectKBest(chi2,k=15)\n",
    "clf_tf = Pipeline([('getTweets',getTweetCol),('vect',tfVect),('feaSelect',feaSelect),('clf',mnbClf)])\n",
    "clf_tf.fit(x_train,y_train)\n",
    "predicted = clf_tf.predict(x_test)\n",
    "print(accuracy_score(y_test,predicted))"
   ]
  },
  {
   "cell_type": "code",
   "execution_count": 30,
   "metadata": {},
   "outputs": [
    {
     "name": "stdout",
     "output_type": "stream",
     "text": [
      "0.75196875\n"
     ]
    }
   ],
   "source": [
    "feaSelect = SelectPercentile(chi2, percentile = 10)\n",
    "clf_tf = Pipeline([('getTweets',getTweetCol),('vect',tfVect),('feaSelect',feaSelect),('clf',mnbClf)])\n",
    "clf_tf.fit(x_train,y_train)\n",
    "predicted = clf_tf.predict(x_test)\n",
    "print(accuracy_score(y_test,predicted))"
   ]
  },
  {
   "cell_type": "code",
   "execution_count": null,
   "metadata": {},
   "outputs": [],
   "source": []
  }
 ],
 "metadata": {
  "kernelspec": {
   "display_name": "Python 3",
   "language": "python",
   "name": "python3"
  },
  "language_info": {
   "codemirror_mode": {
    "name": "ipython",
    "version": 3
   },
   "file_extension": ".py",
   "mimetype": "text/x-python",
   "name": "python",
   "nbconvert_exporter": "python",
   "pygments_lexer": "ipython3",
   "version": "3.7.0"
  }
 },
 "nbformat": 4,
 "nbformat_minor": 2
}
