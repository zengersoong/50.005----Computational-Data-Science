{
  "nbformat": 4,
  "nbformat_minor": 0,
  "metadata": {
    "colab": {
      "name": "lab3.ipynb",
      "version": "0.3.2",
      "provenance": [],
      "collapsed_sections": [],
      "toc_visible": true
    },
    "kernelspec": {
      "name": "python3",
      "display_name": "Python 3"
    },
    "accelerator": "GPU"
  },
  "cells": [
    {
      "metadata": {
        "id": "mHpaCmoSqpHo",
        "colab_type": "code",
        "colab": {}
      },
      "cell_type": "code",
      "source": [
        "from sklearn.feature_extraction.text import CountVectorizer\n",
        "from sklearn.naive_bayes import MultinomialNB\n",
        "from sklearn.pipeline import Pipeline\n",
        "from sklearn.model_selection import train_test_split\n",
        "from sklearn.preprocessing import FunctionTransformer\n",
        "from sklearn import metrics\n",
        "from sklearn.metrics import accuracy_score\n",
        "import pandas as pd\n",
        "import numpy as np"
      ],
      "execution_count": 0,
      "outputs": []
    },
    {
      "metadata": {
        "id": "LAw2iI9Y2_zr",
        "colab_type": "code",
        "colab": {}
      },
      "cell_type": "code",
      "source": [
        ""
      ],
      "execution_count": 0,
      "outputs": []
    },
    {
      "metadata": {
        "id": "sH_sTNDUqrpK",
        "colab_type": "code",
        "colab": {
          "base_uri": "https://localhost:8080/",
          "height": 68
        },
        "outputId": "366337f7-5e8f-4dd5-f2a1-7dad8291d685"
      },
      "cell_type": "code",
      "source": [
        "\n",
        "colnames = ['label', 'id', 'date', 'query','user','text']\n",
        "df_train = pd.read_csv('training.1600000.processed.noemoticon.csv',\n",
        "                      header=None, names=colnames, encoding='windows-1252')\n",
        "df_test = pd.read_csv('testdata.manual.2009.06.14.csv',\n",
        "                      header=None, names=colnames, encoding='windows-1252')\n",
        "df_train.shape\n",
        "df_train.head()\n",
        "df_train['label'].value_counts()"
      ],
      "execution_count": 6,
      "outputs": [
        {
          "output_type": "execute_result",
          "data": {
            "text/plain": [
              "4    800000\n",
              "0    800000\n",
              "Name: label, dtype: int64"
            ]
          },
          "metadata": {
            "tags": []
          },
          "execution_count": 6
        }
      ]
    },
    {
      "metadata": {
        "id": "W64_66XRq1fj",
        "colab_type": "code",
        "colab": {
          "base_uri": "https://localhost:8080/",
          "height": 34
        },
        "outputId": "e3727ff3-5cae-4b2d-f2c8-9e5595d0a5df"
      },
      "cell_type": "code",
      "source": [
        "bowVect = CountVectorizer()\n",
        "trainBow = bowVect.fit_transform(df_train.text)\n",
        "trainBow.shape"
      ],
      "execution_count": 8,
      "outputs": [
        {
          "output_type": "execute_result",
          "data": {
            "text/plain": [
              "(1600000, 685256)"
            ]
          },
          "metadata": {
            "tags": []
          },
          "execution_count": 8
        }
      ]
    },
    {
      "metadata": {
        "id": "hwWSRiMjutrz",
        "colab_type": "code",
        "colab": {
          "base_uri": "https://localhost:8080/",
          "height": 153
        },
        "outputId": "da8b5d1d-5b5a-4b7a-d6d9-ae1f0d69db74"
      },
      "cell_type": "code",
      "source": [
        "\n",
        "testBow = bowVect.transform(df_test[df_test.label!=2].text)\n",
        "mnbClf = MultinomialNB().fit(trainBow, df_train['label'])\n",
        "predicted = mnbClf.predict(testBow)\n",
        "\n",
        "y_test = df_test[df_test.label != 2]\n",
        "\n",
        "print(metrics.classification_report(y_test['label'],predicted))\n",
        "print(accuracy_score(y_test['label'],predicted))"
      ],
      "execution_count": 10,
      "outputs": [
        {
          "output_type": "stream",
          "text": [
            "             precision    recall  f1-score   support\n",
            "\n",
            "          0       0.79      0.82      0.81       177\n",
            "          4       0.82      0.79      0.81       182\n",
            "\n",
            "avg / total       0.81      0.81      0.81       359\n",
            "\n",
            "0.807799442896936\n"
          ],
          "name": "stdout"
        }
      ]
    },
    {
      "metadata": {
        "id": "DgTdv1cUvy1W",
        "colab_type": "code",
        "colab": {
          "base_uri": "https://localhost:8080/",
          "height": 153
        },
        "outputId": "cd4a96cf-0ae0-48cd-f065-982b4310d1f7"
      },
      "cell_type": "code",
      "source": [
        "x_train, x_test, y_train, y_test = train_test_split(df_train, df_train['label'], test_size=0.4)\n",
        "getTweetCol = FunctionTransformer(lambda x: x['text'], validate = False)\n",
        "tfVect= CountVectorizer(ngram_range=(1, 3), stop_words = \"english\")\n",
        "mnb = MultinomialNB()\n",
        "clf_tf = Pipeline([('getTweets',getTweetCol),('vect',tfVect),('clf',mnbClf)])\n",
        "clf_tf.fit(x_train,y_train)\n",
        "predicted = clf_tf.predict(x_test)\n",
        "\n",
        "print(metrics.classification_report(y_test, predicted))\n",
        "print(accuracy_score(y_test, predicted))"
      ],
      "execution_count": 20,
      "outputs": [
        {
          "output_type": "stream",
          "text": [
            "             precision    recall  f1-score   support\n",
            "\n",
            "          0       0.76      0.80      0.78    319697\n",
            "          4       0.79      0.75      0.77    320303\n",
            "\n",
            "avg / total       0.77      0.77      0.77    640000\n",
            "\n",
            "0.774303125\n"
          ],
          "name": "stdout"
        }
      ]
    },
    {
      "metadata": {
        "id": "orDBcVJevIMx",
        "colab_type": "code",
        "colab": {}
      },
      "cell_type": "code",
      "source": [
        ""
      ],
      "execution_count": 0,
      "outputs": []
    }
  ]
}