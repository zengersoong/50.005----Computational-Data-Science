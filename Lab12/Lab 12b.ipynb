{
 "cells": [
  {
   "cell_type": "code",
   "execution_count": 1,
   "metadata": {},
   "outputs": [
    {
     "name": "stderr",
     "output_type": "stream",
     "text": [
      "Using TensorFlow backend.\n"
     ]
    }
   ],
   "source": [
    "import sys\n",
    "import numpy as np\n",
    "from keras.models import Sequential\n",
    "from keras.layers import Dense\n",
    "from keras.layers import Dropout\n",
    "from keras.layers import LSTM\n",
    "from keras.callbacks import ModelCheckpoint\n",
    "from keras.utils import np_utils"
   ]
  },
  {
   "cell_type": "code",
   "execution_count": 4,
   "metadata": {},
   "outputs": [],
   "source": [
    "#Load in dataset of sample text and some preprocessing (convert to lowercase)\n",
    "filename = \"shakespeare.txt\"\n",
    "text = open(filename).readlines()[:124195]\n",
    "text = ''.join(text)\n",
    "text = text.lower()"
   ]
  },
  {
   "cell_type": "code",
   "execution_count": 5,
   "metadata": {},
   "outputs": [],
   "source": [
    "#Fuctions for mapping characters to integers and vice versa. Our text generation task will generate character-by-character.\n",
    "chars = sorted(list(set(text)))\n",
    "char_to_int = dict((c, i) for i, c in enumerate(chars)) # convert characters to integers\n",
    "int_to_char = dict((i, c) for i, c in enumerate(chars)) # convert integers to characters\n",
    "doc_size = len(text)\n",
    "vocab_size = len(chars)"
   ]
  },
  {
   "cell_type": "code",
   "execution_count": 7,
   "metadata": {},
   "outputs": [],
   "source": [
    "#Prepare dataset and labels for our training process, where we use sequences of 50 characters to generate the 51st character.\n",
    "#Keras requries input to be in the shape [samples, time steps, features].\n",
    "seq_length = 50\n",
    "x_train = []\n",
    "y_train = []\n",
    "for i in range(0, doc_size - seq_length, 1):\n",
    " seq_in = text[i:i + seq_length]\n",
    " seq_out = text[i + seq_length]\n",
    " x_train.append([char_to_int[char] for char in seq_in])\n",
    " y_train.append(char_to_int[seq_out])\n",
    "seq_size = len(x_train)\n",
    "y_train = np_utils.to_categorical(y_train) # convert to one-hot\n",
    "x_train = np.reshape(x_train, (seq_size, seq_length, 1)) / float(vocab_size) # reshape and normalize values"
   ]
  },
  {
   "cell_type": "code",
   "execution_count": null,
   "metadata": {},
   "outputs": [],
   "source": [
    "# Construct and train our LSTM model\n",
    "model = Sequential()\n",
    "model.add(LSTM(256, input_shape=(x_train.shape[1], x_train.shape[2])))\n",
    "model.add(Dense(y_train.shape[1], activation='softmax'))\n",
    "model.compile(loss='categorical_crossentropy', optimizer='adam')\n",
    "model.fit(x_train, y_train, epochs=20, batch_size=128)"
   ]
  },
  {
   "cell_type": "code",
   "execution_count": null,
   "metadata": {},
   "outputs": [],
   "source": [
    "# Generate a new text based on provided seed text\n",
    "seed_text = \"out of grief and impatience. answer'd neglectingly\"\n",
    "pattern = [char_to_int[char] for char in seed_text]\n",
    "# generate characters\n",
    "generated_text = \"\"\n",
    "for i in range(500):\n",
    " x = np.reshape(pattern, (1, len(pattern), 1)) / float(vocab_size)\n",
    " prediction = model.predict(x, verbose=0)\n",
    " index = int(np.random.choice(vocab_size, 1, p=prediction[0]))\n",
    " result = int_to_char[index]\n",
    " generated_text+=result\n",
    " pattern.append(index)\n",
    " pattern = pattern[1:len(pattern)]\n",
    "\n",
    "print(\"Generated Text:\")\n",
    "print(generated_text)"
   ]
  },
  {
   "cell_type": "code",
   "execution_count": null,
   "metadata": {},
   "outputs": [],
   "source": []
  }
 ],
 "metadata": {
  "kernelspec": {
   "display_name": "Python 3",
   "language": "python",
   "name": "python3"
  },
  "language_info": {
   "codemirror_mode": {
    "name": "ipython",
    "version": 3
   },
   "file_extension": ".py",
   "mimetype": "text/x-python",
   "name": "python",
   "nbconvert_exporter": "python",
   "pygments_lexer": "ipython3",
   "version": "3.6.7"
  }
 },
 "nbformat": 4,
 "nbformat_minor": 2
}
